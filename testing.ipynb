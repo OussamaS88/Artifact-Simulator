{
 "cells": [
  {
   "cell_type": "code",
   "execution_count": 5,
   "metadata": {},
   "outputs": [],
   "source": [
    "import artifact\n",
    "import pandas as pd\n",
    "\n",
    "# pd.set_option(\"display.max_rows\", None, \"display.max_columns\", None)\n",
    "# z =artifact.retrieveArtifact()\n",
    "# j = pd.concat(z, keys=range(len(z)))\n"
   ]
  }
 ],
 "metadata": {
  "interpreter": {
   "hash": "93e32a46e86a38bdeae444cd9b23ee33684b1096bca4b277cef8cc9270ece824"
  },
  "kernelspec": {
   "display_name": "Python 3.9.9 64-bit (windows store)",
   "language": "python",
   "name": "python3"
  },
  "language_info": {
   "codemirror_mode": {
    "name": "ipython",
    "version": 3
   },
   "file_extension": ".py",
   "mimetype": "text/x-python",
   "name": "python",
   "nbconvert_exporter": "python",
   "pygments_lexer": "ipython3",
   "version": "3.9.9"
  },
  "orig_nbformat": 4
 },
 "nbformat": 4,
 "nbformat_minor": 2
}
